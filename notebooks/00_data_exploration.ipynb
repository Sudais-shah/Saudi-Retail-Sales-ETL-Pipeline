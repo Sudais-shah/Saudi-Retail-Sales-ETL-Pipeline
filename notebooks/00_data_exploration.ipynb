{
 "cells": [
  {
   "cell_type": "markdown",
   "id": "6708cb0a",
   "metadata": {},
   "source": [
    "# **Data Exploration**"
   ]
  },
  {
   "cell_type": "markdown",
   "id": "39447453",
   "metadata": {},
   "source": [
    "#### Add Project Root to Path\n",
    "Adds the project root to Python's path so we can import modules like src.config when running notebooks inside subfolders (e.g., notebooks/)."
   ]
  },
  {
   "cell_type": "code",
   "execution_count": 1,
   "id": "76af9db9",
   "metadata": {},
   "outputs": [],
   "source": [
    "%load_ext autoreload\n",
    "%autoreload 2"
   ]
  },
  {
   "cell_type": "code",
   "execution_count": 2,
   "id": "2de91d89",
   "metadata": {},
   "outputs": [
    {
     "data": {
      "text/plain": [
       "'e:\\\\My Projects\\\\Saudi Retail Data ETL Pipeline'"
      ]
     },
     "execution_count": 2,
     "metadata": {},
     "output_type": "execute_result"
    }
   ],
   "source": [
    "import os\n",
    "import sys\n",
    "\n",
    "project_root = os.path.abspath(os.path.join(os.getcwd(), \"..\"))\n",
    "if project_root not in sys.path:\n",
    "    sys.path.insert(0, project_root)\n",
    "project_root"
   ]
  },
  {
   "cell_type": "code",
   "execution_count": 3,
   "id": "4c8be68a",
   "metadata": {},
   "outputs": [
    {
     "data": {
      "text/plain": [
       "{'data': {'raw_dir': '../data/raw/saudi_store_sales_dataset.csv',\n",
       "  'processed_dir': '../data/processed'},\n",
       " 'spark': {'master': 'local[*]',\n",
       "  'app_name': 'Retail ETL Pipeline',\n",
       "  'configs': {'spark.sql.shuffle.partitions': 200}},\n",
       " 'general': {'log_level': 'INFO',\n",
       "  'feature_flags': {'use_new_preprocessor': False}}}"
      ]
     },
     "execution_count": 3,
     "metadata": {},
     "output_type": "execute_result"
    }
   ],
   "source": [
    "from src.loaders.config_loader import get_config\n",
    "config = get_config()\n",
    "config"
   ]
  },
  {
   "cell_type": "markdown",
   "id": "e9e83855",
   "metadata": {},
   "source": [
    "#### Load Data"
   ]
  },
  {
   "cell_type": "code",
   "execution_count": 4,
   "id": "4496af78",
   "metadata": {},
   "outputs": [
    {
     "name": "stdout",
     "output_type": "stream",
     "text": [
      "Loading CSV file from: ../data/raw/saudi_store_sales_dataset.csv\n"
     ]
    }
   ],
   "source": [
    "from src.loaders.load_data import DataLoader\n",
    "\n",
    "app_name = config['spark']['app_name']\n",
    "path = config['data']['raw_dir']\n",
    "\n",
    "loader = DataLoader('spark')\n",
    "df_spark = loader.load_data(path=path, file_type='csv', header=True, inferSchema=True)"
   ]
  },
  {
   "cell_type": "code",
   "execution_count": 5,
   "id": "c8855f4c",
   "metadata": {},
   "outputs": [
    {
     "name": "stdout",
     "output_type": "stream",
     "text": [
      "Is Spark DataFrame?: True\n",
      "DataFrame loaded successfully.\n"
     ]
    }
   ],
   "source": [
    "from src.exploration.explore_data import DataExplorer\n",
    "\n",
    "explorer = DataExplorer(df_spark)\n",
    "print(\"Is Spark DataFrame?:\", explorer.is_spark)\n",
    "print(\"DataFrame loaded successfully.\")"
   ]
  },
  {
   "cell_type": "code",
   "execution_count": 6,
   "id": "4fad9035",
   "metadata": {},
   "outputs": [
    {
     "name": "stdout",
     "output_type": "stream",
     "text": [
      "root\n",
      " |-- Invoice Date: string (nullable = true)\n",
      " |-- Invoice ID: string (nullable = true)\n",
      " |-- Customer Type: string (nullable = true)\n",
      " |-- Customer Name: string (nullable = true)\n",
      " |-- City: string (nullable = true)\n",
      " |-- Customer Gender: string (nullable = true)\n",
      " |-- Employee Name: string (nullable = true)\n",
      " |-- Manager Name: string (nullable = true)\n",
      " |-- Product Name: string (nullable = true)\n",
      " |-- Product Category: string (nullable = true)\n",
      " |-- Channel: string (nullable = true)\n",
      " |-- Customer Satisfaction: string (nullable = true)\n",
      " |-- Total Sales: integer (nullable = true)\n",
      "\n"
     ]
    }
   ],
   "source": [
    "explorer.explore_data_with_spark(schema=True)"
   ]
  },
  {
   "cell_type": "code",
   "execution_count": 7,
   "id": "4bdb18ba",
   "metadata": {},
   "outputs": [
    {
     "name": "stdout",
     "output_type": "stream",
     "text": [
      "Rows: 49998, Columns: ['Invoice Date', 'Invoice ID', 'Customer Type', 'Customer Name', 'City', 'Customer Gender', 'Employee Name', 'Manager Name', 'Product Name', 'Product Category', 'Channel', 'Customer Satisfaction', 'Total Sales']\n"
     ]
    }
   ],
   "source": [
    "explorer.explore_data_with_spark(overview=True)"
   ]
  },
  {
   "cell_type": "code",
   "execution_count": 8,
   "id": "9b4626b1",
   "metadata": {},
   "outputs": [
    {
     "name": "stdout",
     "output_type": "stream",
     "text": [
      "+-------+------------+----------+---------------+----------------+---------------+---------------+--------------------+-------------+----------------+----------------+-------+---------------------+------------------+\n",
      "|summary|Invoice Date|Invoice ID|  Customer Type|   Customer Name|           City|Customer Gender|       Employee Name| Manager Name|    Product Name|Product Category|Channel|Customer Satisfaction|       Total Sales|\n",
      "+-------+------------+----------+---------------+----------------+---------------+---------------+--------------------+-------------+----------------+----------------+-------+---------------------+------------------+\n",
      "|  count|       49998|     49998|          49998|           49998|          49998|          49998|               49998|        49998|           49998|           49998|  49998|                49998|             49998|\n",
      "|   mean|        NULL|      NULL|           NULL|            NULL|           NULL|           NULL|                NULL|         NULL|            NULL|            NULL|   NULL|                 NULL|  1973.11878475139|\n",
      "| stddev|        NULL|      NULL|           NULL|            NULL|           NULL|           NULL|                NULL|         NULL|            NULL|            NULL|   NULL|                 NULL|2048.0091336601586|\n",
      "|    min|    1/1/2020|      ID-1| Loyal Customer|Abdullah Alomary|      Al Khobar|         Female|Abdullateif AlKha...|  Hany Higazi|     4K Dash Cam|      Automotive| OnLine|                 High|                22|\n",
      "|    25%|        NULL|      NULL|           NULL|            NULL|           NULL|           NULL|                NULL|         NULL|            NULL|            NULL|   NULL|                 NULL|               354|\n",
      "|    50%|        NULL|      NULL|           NULL|            NULL|           NULL|           NULL|                NULL|         NULL|            NULL|            NULL|   NULL|                 NULL|               958|\n",
      "|    75%|        NULL|      NULL|           NULL|            NULL|           NULL|           NULL|                NULL|         NULL|            NULL|            NULL|   NULL|                 NULL|              3306|\n",
      "|    max|    9/9/2023|  ID-99997|Retail Customer|    Zoza Mohamed|Wadi ad Dawasir|           Male|       Yasmina Fouad|Mohamed Allam|Wireless Earbuds| Women'S Fashion|  Store|             Very Low|              9700|\n",
      "+-------+------------+----------+---------------+----------------+---------------+---------------+--------------------+-------------+----------------+----------------+-------+---------------------+------------------+\n",
      "\n"
     ]
    }
   ],
   "source": [
    "explorer.explore_data_with_spark(summary=True)"
   ]
  },
  {
   "cell_type": "code",
   "execution_count": 9,
   "id": "84d291ee",
   "metadata": {},
   "outputs": [
    {
     "name": "stdout",
     "output_type": "stream",
     "text": [
      "+------------+----------+-------------+-------------+----+---------------+-------------+------------+------------+----------------+-------+---------------------+-----------+\n",
      "|Invoice Date|Invoice ID|Customer Type|Customer Name|City|Customer Gender|Employee Name|Manager Name|Product Name|Product Category|Channel|Customer Satisfaction|Total Sales|\n",
      "+------------+----------+-------------+-------------+----+---------------+-------------+------------+------------+----------------+-------+---------------------+-----------+\n",
      "|           0|         0|            0|            0|   0|              0|            0|           0|           0|               0|      0|                    0|          0|\n",
      "+------------+----------+-------------+-------------+----+---------------+-------------+------------+------------+----------------+-------+---------------------+-----------+\n",
      "\n"
     ]
    }
   ],
   "source": [
    "explorer.explore_data_with_spark(nulls=True)"
   ]
  },
  {
   "cell_type": "code",
   "execution_count": 10,
   "id": "166d6cd8",
   "metadata": {},
   "outputs": [
    {
     "name": "stdout",
     "output_type": "stream",
     "text": [
      "Duplicate Rows: 0\n"
     ]
    }
   ],
   "source": [
    "explorer.explore_data_with_spark(duplicates=True)"
   ]
  },
  {
   "cell_type": "code",
   "execution_count": 11,
   "id": "c80f2bcd",
   "metadata": {},
   "outputs": [
    {
     "name": "stdout",
     "output_type": "stream",
     "text": [
      "\n",
      "--- Invoice Date ---\n",
      "+------------+-----+\n",
      "|Invoice Date|count|\n",
      "+------------+-----+\n",
      "|  11/12/2023|   59|\n",
      "|    8/1/2020|   53|\n",
      "|   6/25/2023|   53|\n",
      "|   10/7/2020|   52|\n",
      "|    7/3/2020|   52|\n",
      "|  12/27/2020|   51|\n",
      "|    8/2/2021|   51|\n",
      "|   8/20/2020|   50|\n",
      "|   2/27/2020|   50|\n",
      "|    7/3/2023|   50|\n",
      "|   5/15/2022|   49|\n",
      "|  12/30/2021|   49|\n",
      "|    3/4/2021|   49|\n",
      "|   9/15/2022|   49|\n",
      "|   7/30/2022|   49|\n",
      "|   5/22/2020|   48|\n",
      "|  10/22/2020|   48|\n",
      "|    6/9/2021|   48|\n",
      "|  11/15/2022|   48|\n",
      "|    8/3/2021|   48|\n",
      "+------------+-----+\n",
      "only showing top 20 rows\n",
      "\n",
      "\n",
      "--- Invoice ID ---\n",
      "+----------+-----+\n",
      "|Invoice ID|count|\n",
      "+----------+-----+\n",
      "| ID-242374|    1|\n",
      "|  ID-88813|    1|\n",
      "| ID-306624|    1|\n",
      "|  ID-72919|    1|\n",
      "|  ID-61245|    1|\n",
      "|   ID-1038|    1|\n",
      "| ID-198702|    1|\n",
      "| ID-297519|    1|\n",
      "| ID-458725|    1|\n",
      "| ID-158345|    1|\n",
      "| ID-101394|    1|\n",
      "| ID-153240|    1|\n",
      "| ID-346847|    1|\n",
      "| ID-170627|    1|\n",
      "| ID-340587|    1|\n",
      "| ID-219963|    1|\n",
      "| ID-141305|    1|\n",
      "| ID-138569|    1|\n",
      "| ID-447967|    1|\n",
      "| ID-255037|    1|\n",
      "+----------+-----+\n",
      "only showing top 20 rows\n",
      "\n",
      "\n",
      "--- Customer Type ---\n",
      "+---------------+-----+\n",
      "|  Customer Type|count|\n",
      "+---------------+-----+\n",
      "| Loyal Customer|24865|\n",
      "|Retail Customer|16739|\n",
      "|   New Customer| 8394|\n",
      "+---------------+-----+\n",
      "\n",
      "\n",
      "--- Customer Name ---\n",
      "+-------------------+-----+\n",
      "|      Customer Name|count|\n",
      "+-------------------+-----+\n",
      "|      Maisoun Kamal| 3040|\n",
      "|      Abeer Mohamed| 2649|\n",
      "|      Zenab Elsayad| 2451|\n",
      "| Hassan Abdelrahman| 2444|\n",
      "|      Essam Elsayad| 2442|\n",
      "|    Amal Abdelfatah| 2436|\n",
      "|      Mahmoud Kamal| 2415|\n",
      "|       Amal Mohamed| 2401|\n",
      "|   Azza Abdelrahman| 2400|\n",
      "|      Maram Mohamed| 2011|\n",
      "|     Mahmoud Raslan| 1972|\n",
      "|       Taleb Aldris| 1893|\n",
      "|Mostafa Almohammady| 1892|\n",
      "|        Ahmed Ezzat| 1884|\n",
      "|   Abdullah Alomary| 1865|\n",
      "|     Mahmoud Khairy| 1825|\n",
      "|       Ahmed Yousef| 1810|\n",
      "|      Mostafa Fawzy| 1797|\n",
      "|       Berry Hassan| 1764|\n",
      "|         Hala Ahmed| 1762|\n",
      "+-------------------+-----+\n",
      "only showing top 20 rows\n",
      "\n",
      "\n",
      "--- City ---\n",
      "+---------------+-----+\n",
      "|           City|count|\n",
      "+---------------+-----+\n",
      "|         Riyadh| 6901|\n",
      "|         Medina| 5480|\n",
      "|          Tabuk| 5429|\n",
      "|       Buraydah| 5241|\n",
      "|         Jeddah| 4548|\n",
      "| Hafar Al Batin| 4239|\n",
      "|          Mecca| 3992|\n",
      "|Wadi ad Dawasir| 3420|\n",
      "|           Arar| 3227|\n",
      "|         Najran| 3020|\n",
      "|      Al Khobar| 2920|\n",
      "|          AlUla| 1581|\n",
      "+---------------+-----+\n",
      "\n",
      "\n",
      "--- Customer Gender ---\n",
      "+---------------+-----+\n",
      "|Customer Gender|count|\n",
      "+---------------+-----+\n",
      "|           Male|27353|\n",
      "|         Female|22645|\n",
      "+---------------+-----+\n",
      "\n",
      "\n",
      "--- Employee Name ---\n",
      "+--------------------+-----+\n",
      "|       Employee Name|count|\n",
      "+--------------------+-----+\n",
      "|Abdullateif AlKha...| 9401|\n",
      "|        Alaa Khalifa| 9224|\n",
      "|         Ayman Kamal| 8305|\n",
      "|       Yasmina Fouad| 8244|\n",
      "|    Mohamed Musallam| 7680|\n",
      "|           Sara Adel| 7144|\n",
      "+--------------------+-----+\n",
      "\n",
      "\n",
      "--- Manager Name ---\n",
      "+-------------+-----+\n",
      "| Manager Name|count|\n",
      "+-------------+-----+\n",
      "|Mohamed Allam|25325|\n",
      "|  Hany Higazi|24673|\n",
      "+-------------+-----+\n",
      "\n",
      "\n",
      "--- Product Name ---\n",
      "+--------------------+-----+\n",
      "|        Product Name|count|\n",
      "+--------------------+-----+\n",
      "|     Half-Zip Hooded|  629|\n",
      "|    Softside Luggage|  627|\n",
      "|   Half Zip Pullover|  622|\n",
      "|    Digger Megalodon|  621|\n",
      "|Skinactive Micell...|  616|\n",
      "|  Original Fit Jeans|  613|\n",
      "|      Quilted Jacket|  611|\n",
      "|  Heavyweight Jacket|  610|\n",
      "| Air Compressor Tire|  610|\n",
      "|   Carry On Foldable|  608|\n",
      "|      Remote Control|  606|\n",
      "|     Christmas Shirt|  605|\n",
      "|  Toddler Little Boy|  602|\n",
      "|Water-Resistant H...|  600|\n",
      "|  Daily Scented Balm|  596|\n",
      "|   Boys' Long Sleeve|  596|\n",
      "|     4K Dash Cam Gps|  594|\n",
      "|      Orthopedic Bed|  593|\n",
      "|      Gaming Headset|  593|\n",
      "|          Mouse Lilo|  591|\n",
      "+--------------------+-----+\n",
      "only showing top 20 rows\n",
      "\n",
      "\n",
      "--- Product Category ---\n",
      "+--------------------+-----+\n",
      "|    Product Category|count|\n",
      "+--------------------+-----+\n",
      "|Beauty And Person...| 5594|\n",
      "|      Girls' Fashion| 5526|\n",
      "|       Boys' Fashion| 5262|\n",
      "|       Men'S Fashion| 5110|\n",
      "|     Women'S Fashion| 5062|\n",
      "|          Automotive| 5053|\n",
      "|      Toys And Games| 4805|\n",
      "|        Pet Supplies| 4793|\n",
      "|             Luggage| 4485|\n",
      "|         Electronics| 4308|\n",
      "+--------------------+-----+\n",
      "\n",
      "\n",
      "--- Channel ---\n",
      "+-------+-----+\n",
      "|Channel|count|\n",
      "+-------+-----+\n",
      "| OnLine|33242|\n",
      "|  Store|16756|\n",
      "+-------+-----+\n",
      "\n",
      "\n",
      "--- Customer Satisfaction ---\n",
      "+---------------------+-----+\n",
      "|Customer Satisfaction|count|\n",
      "+---------------------+-----+\n",
      "|                 High|16783|\n",
      "|                   Ok|13209|\n",
      "|            Very High| 9930|\n",
      "|                  Low| 6779|\n",
      "|             Very Low| 3297|\n",
      "+---------------------+-----+\n",
      "\n",
      "\n",
      "--- Total Sales ---\n",
      "+-----------+-----+\n",
      "|Total Sales|count|\n",
      "+-----------+-----+\n",
      "|        312|  294|\n",
      "|        504|  283|\n",
      "|        520|  281|\n",
      "|        416|  275|\n",
      "|        104|  274|\n",
      "|        441|  261|\n",
      "|        252|  239|\n",
      "|        630|  236|\n",
      "|        208|  235|\n",
      "|        432|  229|\n",
      "|        378|  226|\n",
      "|        288|  212|\n",
      "|        420|  203|\n",
      "|        126|  198|\n",
      "|        336|  196|\n",
      "|        294|  193|\n",
      "|        144|  186|\n",
      "|        588|  179|\n",
      "|        720|  174|\n",
      "|        168|  173|\n",
      "+-----------+-----+\n",
      "only showing top 20 rows\n",
      "\n"
     ]
    }
   ],
   "source": [
    "explorer.explore_data_with_spark(value_counts=True)"
   ]
  }
 ],
 "metadata": {
  "kernelspec": {
   "display_name": "Python 3",
   "language": "python",
   "name": "python3"
  },
  "language_info": {
   "codemirror_mode": {
    "name": "ipython",
    "version": 3
   },
   "file_extension": ".py",
   "mimetype": "text/x-python",
   "name": "python",
   "nbconvert_exporter": "python",
   "pygments_lexer": "ipython3",
   "version": "3.12.4"
  }
 },
 "nbformat": 4,
 "nbformat_minor": 5
}
