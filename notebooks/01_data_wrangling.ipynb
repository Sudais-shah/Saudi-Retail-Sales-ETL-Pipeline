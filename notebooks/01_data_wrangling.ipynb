{
 "cells": [
  {
   "cell_type": "markdown",
   "id": "f4a36873",
   "metadata": {},
   "source": [
    "## **Data Wrangling**"
   ]
  },
  {
   "cell_type": "code",
   "execution_count": 1,
   "id": "891551c4",
   "metadata": {},
   "outputs": [],
   "source": [
    "%load_ext autoreload\n",
    "%autoreload 2"
   ]
  },
  {
   "cell_type": "code",
   "execution_count": 2,
   "id": "68d96aa1",
   "metadata": {},
   "outputs": [],
   "source": [
    "import os\n",
    "import sys\n",
    "project_root = os.path.abspath(os.path.join(os.getcwd(), '..'))\n",
    "if project_root not in sys.path:\n",
    "    sys.path.insert(0, project_root)  # This will auto-load the project path"
   ]
  },
  {
   "cell_type": "code",
   "execution_count": 3,
   "id": "e6504da6",
   "metadata": {},
   "outputs": [
    {
     "name": "stdout",
     "output_type": "stream",
     "text": [
      "Loading CSV file from: ../data/raw/saudi_store_sales_dataset.csv\n"
     ]
    }
   ],
   "source": [
    "from src.loaders.load_data import DataLoader\n",
    "from src.loaders.config_loader import get_config\n",
    "\n",
    "config = get_config()\n",
    "loader = DataLoader()\n",
    "df = loader.load_data(config['data']['raw_dir'])"
   ]
  },
  {
   "cell_type": "code",
   "execution_count": 4,
   "id": "6d2659ac",
   "metadata": {},
   "outputs": [
    {
     "name": "stdout",
     "output_type": "stream",
     "text": [
      "Using Spark DataFrame wrangler\n"
     ]
    }
   ],
   "source": [
    "from src.wranglers.dynamic_wrangler_selecter import get_wrangler  # create this function\n",
    "wrangler = get_wrangler(df)\n"
   ]
  },
  {
   "cell_type": "code",
   "execution_count": 5,
   "id": "b3e9eb52",
   "metadata": {},
   "outputs": [
    {
     "name": "stdout",
     "output_type": "stream",
     "text": [
      "Starting Data Cleaning and Preprocessing...\n",
      "Dropped columns: ['Invoice ID', 'Customer Type', 'Customer Name', 'Customer Gender', 'Employee Name', 'Product Name', 'Manager Name', 'Channel', 'Customer Satisfaction']\n",
      "Current columns: ['Invoice Date', 'City', 'Product Category', 'Total Sales']\n",
      " Missing values handled\n",
      " Duplicates removed: 51 rows dropped\n",
      " Whitespace trimmed in 'City' and 'Category'\n",
      " Converted text to lowercase for 'City' and 'Product Category'\n",
      " Removed special characters from 'City' and 'Product Category'\n",
      " Final DataFrame schema:\n",
      "root\n",
      " |-- Invoice Date: string (nullable = true)\n",
      " |-- City: string (nullable = false)\n",
      " |-- Product Category: string (nullable = false)\n",
      " |-- Total Sales: integer (nullable = true)\n",
      "\n",
      "Total Rows: 49947 | Total Columns: 4\n",
      " Data Cleaning and Preprocessing Complete!\n"
     ]
    }
   ],
   "source": [
    "wrangler = wrangler.clean_and_preprocess()"
   ]
  },
  {
   "cell_type": "code",
   "execution_count": 6,
   "id": "920c4982",
   "metadata": {},
   "outputs": [
    {
     "name": "stdout",
     "output_type": "stream",
     "text": [
      "+------------+---------------+----------------+-----------+\n",
      "|Invoice Date|           City|Product Category|Total Sales|\n",
      "+------------+---------------+----------------+-----------+\n",
      "|    1/4/2020|          mecca|    boys fashion|        195|\n",
      "|    1/7/2020|         riyadh|  womens fashion|       3045|\n",
      "|   1/18/2020|wadi ad dawasir|    pet supplies|        552|\n",
      "|   1/24/2020|          tabuk|    boys fashion|        204|\n",
      "|    2/6/2020|         riyadh|         luggage|       6806|\n",
      "+------------+---------------+----------------+-----------+\n",
      "only showing top 5 rows\n",
      "\n"
     ]
    }
   ],
   "source": [
    "wrangler.df.show(5)"
   ]
  },
  {
   "cell_type": "code",
   "execution_count": 7,
   "id": "d630a1fb",
   "metadata": {},
   "outputs": [],
   "source": [
    "wrangler = wrangler.validate_schema()"
   ]
  },
  {
   "cell_type": "code",
   "execution_count": 8,
   "id": "9609b96d",
   "metadata": {},
   "outputs": [
    {
     "name": "stdout",
     "output_type": "stream",
     "text": [
      "+------------+---------------+----------------+-----------+\n",
      "|Invoice Date|           City|Product Category|Total Sales|\n",
      "+------------+---------------+----------------+-----------+\n",
      "|    1/4/2020|          mecca|    boys fashion|      195.0|\n",
      "|    1/7/2020|         riyadh|  womens fashion|     3045.0|\n",
      "|   1/18/2020|wadi ad dawasir|    pet supplies|      552.0|\n",
      "|   1/24/2020|          tabuk|    boys fashion|      204.0|\n",
      "|    2/6/2020|         riyadh|         luggage|     6806.0|\n",
      "+------------+---------------+----------------+-----------+\n",
      "only showing top 5 rows\n",
      "\n"
     ]
    }
   ],
   "source": [
    "wrangler.df.show(5)"
   ]
  },
  {
   "cell_type": "code",
   "execution_count": 9,
   "id": "cda9f922",
   "metadata": {},
   "outputs": [
    {
     "name": "stdout",
     "output_type": "stream",
     "text": [
      "Detecting outliers for column 'Total Sales':\n",
      "   Lower Bound: -3429.0, Upper Bound: 6723.0\n",
      "   Outliers detected: 1516\n",
      " Outliers handled for column 'Total Sales'.\n"
     ]
    }
   ],
   "source": [
    "wrangler = wrangler.detect_and_handle_outliers()"
   ]
  },
  {
   "cell_type": "code",
   "execution_count": 10,
   "id": "d27e2c07",
   "metadata": {},
   "outputs": [
    {
     "name": "stdout",
     "output_type": "stream",
     "text": [
      "+------------+---------------+----------------+-----------+\n",
      "|Invoice Date|           City|Product Category|Total Sales|\n",
      "+------------+---------------+----------------+-----------+\n",
      "|    1/4/2020|          mecca|    boys fashion|      195.0|\n",
      "|    1/7/2020|         riyadh|  womens fashion|     3045.0|\n",
      "|   1/18/2020|wadi ad dawasir|    pet supplies|      552.0|\n",
      "|   1/24/2020|          tabuk|    boys fashion|      204.0|\n",
      "|    2/6/2020|         riyadh|         luggage|     6723.0|\n",
      "+------------+---------------+----------------+-----------+\n",
      "only showing top 5 rows\n",
      "\n"
     ]
    }
   ],
   "source": [
    "wrangler.df.show(5)"
   ]
  },
  {
   "cell_type": "code",
   "execution_count": 11,
   "id": "57638166",
   "metadata": {},
   "outputs": [
    {
     "name": "stdout",
     "output_type": "stream",
     "text": [
      "+---------------+----------+-----------------+\n",
      "|City           |Week Start|City Weekly Sales|\n",
      "+---------------+----------+-----------------+\n",
      "|mecca          |2019-12-30|25070.0          |\n",
      "|alula          |2019-12-30|15265.0          |\n",
      "|buraydah       |2019-12-30|46717.0          |\n",
      "|hafar al batin |2019-12-30|30144.0          |\n",
      "|medina         |2019-12-30|46691.0          |\n",
      "|wadi ad dawasir|2019-12-30|28302.0          |\n",
      "|riyadh         |2019-12-30|51725.0          |\n",
      "|arar           |2019-12-30|13390.0          |\n",
      "|tabuk          |2019-12-30|64394.0          |\n",
      "|najran         |2019-12-30|23524.0          |\n",
      "|jeddah         |2019-12-30|32675.0          |\n",
      "|al khobar      |2019-12-30|12737.0          |\n",
      "|al khobar      |2020-01-06|14225.0          |\n",
      "|najran         |2020-01-06|39851.0          |\n",
      "+---------------+----------+-----------------+\n",
      "only showing top 14 rows\n",
      "\n",
      "+------------------------+----------+---------------------+\n",
      "|Product Category        |Week Start|Category Weekly Sales|\n",
      "+------------------------+----------+---------------------+\n",
      "|electronics             |2019-12-30|25512.0              |\n",
      "|girls fashion           |2019-12-30|56176.0              |\n",
      "|womens fashion          |2019-12-30|40678.0              |\n",
      "|automotive              |2019-12-30|37831.0              |\n",
      "|beauty and personal care|2019-12-30|43789.0              |\n",
      "|boys fashion            |2019-12-30|62376.0              |\n",
      "|toys and games          |2019-12-30|22414.0              |\n",
      "|pet supplies            |2019-12-30|27436.0              |\n",
      "|luggage                 |2019-12-30|43511.0              |\n",
      "|mens fashion            |2019-12-30|30911.0              |\n",
      "|womens fashion          |2020-01-06|57875.0              |\n",
      "|automotive              |2020-01-06|18511.0              |\n",
      "|beauty and personal care|2020-01-06|62734.0              |\n",
      "|electronics             |2020-01-06|34470.0              |\n",
      "+------------------------+----------+---------------------+\n",
      "only showing top 14 rows\n",
      "\n",
      "+----------+--------------+-----------+------------------+-----------------+\n",
      "|Week Start|City          |Total Sales|Average Sales     |Transaction Count|\n",
      "+----------+--------------+-----------+------------------+-----------------+\n",
      "|2019-12-30|riyadh        |51725.0    |1989.423076923077 |26               |\n",
      "|2019-12-30|hafar al batin|30144.0    |1884.0            |16               |\n",
      "|2019-12-30|al khobar     |12737.0    |1157.909090909091 |11               |\n",
      "|2019-12-30|jeddah        |32675.0    |1815.2777777777778|18               |\n",
      "|2019-12-30|mecca         |25070.0    |1790.7142857142858|14               |\n",
      "+----------+--------------+-----------+------------------+-----------------+\n",
      "only showing top 5 rows\n",
      "\n",
      "+----------+----------------+-----------+------------------+-----------------+\n",
      "|Week Start|Product Category|Total Sales|Average Sales     |Transaction Count|\n",
      "+----------+----------------+-----------+------------------+-----------------+\n",
      "|2019-12-30|girls fashion   |56176.0    |2340.6666666666665|24               |\n",
      "|2019-12-30|toys and games  |22414.0    |1724.1538461538462|13               |\n",
      "|2019-12-30|electronics     |25512.0    |2126.0            |12               |\n",
      "|2019-12-30|automotive      |37831.0    |1513.24           |25               |\n",
      "|2019-12-30|boys fashion    |62376.0    |2599.0            |24               |\n",
      "+----------+----------------+-----------+------------------+-----------------+\n",
      "only showing top 5 rows\n",
      "\n"
     ]
    }
   ],
   "source": [
    "wrangler = wrangler.aggregate_for_forecasting()"
   ]
  },
  {
   "cell_type": "code",
   "execution_count": 12,
   "id": "0458807c",
   "metadata": {},
   "outputs": [
    {
     "name": "stdout",
     "output_type": "stream",
     "text": [
      "+------------+---------------+----------------+-----------+-------------------+\n",
      "|Invoice Date|           City|Product Category|Total Sales|         Week Start|\n",
      "+------------+---------------+----------------+-----------+-------------------+\n",
      "|  2020-01-04|          mecca|    boys fashion|      195.0|2019-12-30 00:00:00|\n",
      "|  2020-01-07|         riyadh|  womens fashion|     3045.0|2020-01-06 00:00:00|\n",
      "|  2020-01-18|wadi ad dawasir|    pet supplies|      552.0|2020-01-13 00:00:00|\n",
      "|  2020-01-24|          tabuk|    boys fashion|      204.0|2020-01-20 00:00:00|\n",
      "|  2020-02-06|         riyadh|         luggage|     6723.0|2020-02-03 00:00:00|\n",
      "+------------+---------------+----------------+-----------+-------------------+\n",
      "only showing top 5 rows\n",
      "\n"
     ]
    }
   ],
   "source": [
    "wrangler.df.show(5)"
   ]
  },
  {
   "cell_type": "code",
   "execution_count": 13,
   "id": "9ca9c5a3",
   "metadata": {},
   "outputs": [
    {
     "name": "stdout",
     "output_type": "stream",
     "text": [
      "Null Counts:\n",
      "+------------+----+----------------+-----------+----------+\n",
      "|Invoice Date|City|Product Category|Total Sales|Week Start|\n",
      "+------------+----+----------------+-----------+----------+\n",
      "|           0|   0|               0|          0|         0|\n",
      "+------------+----+----------------+-----------+----------+\n",
      "\n",
      "Data Types:\n",
      "Invoice Date: Expected=date, Actual=DateType()\n",
      "City: Expected=string, Actual=StringType()\n",
      "Product Category: Expected=string, Actual=StringType()\n",
      "Total Sales: Expected=float, Actual=DoubleType()\n",
      "\n",
      " Checking for Negative or Zero Sales:\n",
      "+------------+----+----------------+-----------+----------+\n",
      "|Invoice Date|City|Product Category|Total Sales|Week Start|\n",
      "+------------+----+----------------+-----------+----------+\n",
      "+------------+----+----------------+-----------+----------+\n",
      "\n",
      "\n",
      " Checking for Duplicates:\n",
      "Found 6 duplicate rows.\n",
      "+------------+---------+----------------+-----------+-------------------+-----+\n",
      "|Invoice Date|     City|Product Category|Total Sales|         Week Start|count|\n",
      "+------------+---------+----------------+-----------+-------------------+-----+\n",
      "|  2020-10-09|al khobar|  womens fashion|     6723.0|2020-10-05 00:00:00|    2|\n",
      "|  2020-04-03|   jeddah|  womens fashion|     6723.0|2020-03-30 00:00:00|    2|\n",
      "|  2023-10-03|    mecca|  womens fashion|     6723.0|2023-10-02 00:00:00|    2|\n",
      "|  2023-01-06|    tabuk|    mens fashion|     6723.0|2023-01-02 00:00:00|    2|\n",
      "|  2021-01-11|     arar|  womens fashion|     6723.0|2021-01-11 00:00:00|    2|\n",
      "|  2023-08-09|    mecca|  womens fashion|     6723.0|2023-08-07 00:00:00|    2|\n",
      "+------------+---------+----------------+-----------+-------------------+-----+\n",
      "\n",
      "\n",
      " Date Continuity Check:\n",
      "+------------+\n",
      "|Invoice Date|\n",
      "+------------+\n",
      "|  2020-01-01|\n",
      "|  2020-01-01|\n",
      "|  2020-01-01|\n",
      "|  2020-01-01|\n",
      "|  2020-01-01|\n",
      "+------------+\n",
      "only showing top 5 rows\n",
      "\n",
      "\n",
      " City Names Check:\n",
      "+---------------+\n",
      "|           City|\n",
      "+---------------+\n",
      "|           arar|\n",
      "|         riyadh|\n",
      "|          tabuk|\n",
      "| hafar al batin|\n",
      "|         jeddah|\n",
      "|         najran|\n",
      "|          mecca|\n",
      "|       buraydah|\n",
      "|wadi ad dawasir|\n",
      "|         medina|\n",
      "|          alula|\n",
      "|      al khobar|\n",
      "+---------------+\n",
      "\n",
      "\n",
      " Product Categories Check:\n",
      "+--------------------+\n",
      "|    Product Category|\n",
      "+--------------------+\n",
      "|          automotive|\n",
      "|      toys and games|\n",
      "|        pet supplies|\n",
      "|       girls fashion|\n",
      "|         electronics|\n",
      "|      womens fashion|\n",
      "|        boys fashion|\n",
      "|beauty and person...|\n",
      "|        mens fashion|\n",
      "|             luggage|\n",
      "+--------------------+\n",
      "\n",
      "\n",
      " Unique City and Category Counts:\n",
      "Unique Cities: 12\n",
      "Unique Product Categories: 10\n",
      "\n",
      " Sample Review:\n",
      "Displaying 10 random rows:\n",
      "+------------+---------------+------------------------+-----------+-------------------+\n",
      "|Invoice Date|City           |Product Category        |Total Sales|Week Start         |\n",
      "+------------+---------------+------------------------+-----------+-------------------+\n",
      "|2022-09-09  |arar           |luggage                 |218.0      |2022-09-05 00:00:00|\n",
      "|2021-10-29  |medina         |mens fashion            |1071.0     |2021-10-25 00:00:00|\n",
      "|2020-05-21  |wadi ad dawasir|womens fashion          |2262.0     |2020-05-18 00:00:00|\n",
      "|2023-01-17  |wadi ad dawasir|luggage                 |3198.0     |2023-01-16 00:00:00|\n",
      "|2020-11-18  |medina         |boys fashion            |1156.0     |2020-11-16 00:00:00|\n",
      "|2020-04-01  |arar           |boys fashion            |4830.0     |2020-03-30 00:00:00|\n",
      "|2020-12-07  |mecca          |toys and games          |4366.0     |2020-12-07 00:00:00|\n",
      "|2021-12-03  |arar           |girls fashion           |5390.0     |2021-11-29 00:00:00|\n",
      "|2023-08-23  |wadi ad dawasir|luggage                 |462.0      |2023-08-21 00:00:00|\n",
      "|2022-04-24  |jeddah         |beauty and personal care|22.0       |2022-04-18 00:00:00|\n",
      "+------------+---------------+------------------------+-----------+-------------------+\n",
      "\n",
      "\n",
      " Data Quality Checks Completed.\n"
     ]
    }
   ],
   "source": [
    "wrangler = wrangler.run_quality_checks()"
   ]
  },
  {
   "cell_type": "code",
   "execution_count": 14,
   "id": "b02c51d0",
   "metadata": {},
   "outputs": [
    {
     "name": "stdout",
     "output_type": "stream",
     "text": [
      "Directory already exists: ../data/processed\n",
      "\n",
      "Exporting the main processed DataFrame...\n",
      "Main Data saved as: ../data/processed\\main_data_v2.csv\n",
      "\n",
      "Exporting the city-level weekly sales DataFrame...\n",
      "City Weekly Sales saved as: ../data/processed\\city_sales_weekly_v1.csv\n",
      "\n",
      "Exporting the category-level weekly sales DataFrame...\n",
      "Category Weekly Sales saved as: ../data/processed\\category_sales_weekly_v1.csv\n",
      "\n",
      "All exports completed successfully.\n",
      "\n",
      "You can check the processed data here: ../data/processed\n"
     ]
    }
   ],
   "source": [
    "wrangler = wrangler.export_and_version_data()"
   ]
  }
 ],
 "metadata": {
  "kernelspec": {
   "display_name": "Python 3",
   "language": "python",
   "name": "python3"
  },
  "language_info": {
   "codemirror_mode": {
    "name": "ipython",
    "version": 3
   },
   "file_extension": ".py",
   "mimetype": "text/x-python",
   "name": "python",
   "nbconvert_exporter": "python",
   "pygments_lexer": "ipython3",
   "version": "3.12.4"
  }
 },
 "nbformat": 4,
 "nbformat_minor": 5
}
