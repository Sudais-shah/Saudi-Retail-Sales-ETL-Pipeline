{
 "cells": [
  {
   "cell_type": "markdown",
   "id": "0bd9080e",
   "metadata": {},
   "source": [
    "# **FEATURE ENGINEERING**"
   ]
  },
  {
   "cell_type": "code",
   "execution_count": 5,
   "id": "93a876e3",
   "metadata": {},
   "outputs": [
    {
     "name": "stdout",
     "output_type": "stream",
     "text": [
      "The autoreload extension is already loaded. To reload it, use:\n",
      "  %reload_ext autoreload\n"
     ]
    }
   ],
   "source": [
    "%load_ext autoreload\n",
    "%autoreload 2"
   ]
  },
  {
   "cell_type": "code",
   "execution_count": 6,
   "id": "1bb59304",
   "metadata": {},
   "outputs": [],
   "source": [
    "import os\n",
    "import sys\n",
    "project_root = os.path.abspath(os.path.join(os.getcwd(), '..'))\n",
    "if project_root not in sys.path:\n",
    "    sys.path.insert(0, project_root)"
   ]
  },
  {
   "cell_type": "code",
   "execution_count": 7,
   "id": "a2786576",
   "metadata": {},
   "outputs": [
    {
     "name": "stdout",
     "output_type": "stream",
     "text": [
      "[INFO] Loading latest file: category_sales_weekly_v1.csv\n",
      "[INFO] DataFrame loaded successfully. Shape: (2090, 3)\n",
      "[INFO] Loading latest file: city_sales_weekly_v1.csv\n",
      "[INFO] DataFrame loaded successfully. Shape: (2508, 3)\n"
     ]
    }
   ],
   "source": [
    "from src.utils.load_by_prefix import load_latest_file_by_prefix\n",
    "from src.utils.spark_session import get_spark_session  \n",
    "from src.loaders.config_loader import get_config\n",
    "\n",
    "spark = get_spark_session()\n",
    "config = get_config()\n",
    "path = config[\"data\"][\"processed_dir\"]\n",
    "\n",
    "df_category_weekly_sales = load_latest_file_by_prefix(directory=path, prefix=\"category_sales_weekly\")\n",
    "df_city_weekly_sales = load_latest_file_by_prefix(directory=path, prefix=\"city_sales_weekly\")"
   ]
  },
  {
   "cell_type": "code",
   "execution_count": 8,
   "id": "25f11dfb",
   "metadata": {},
   "outputs": [
    {
     "data": {
      "text/plain": [
       "Index(['Product Category', 'Week Start', 'Category Weekly Sales'], dtype='object')"
      ]
     },
     "execution_count": 8,
     "metadata": {},
     "output_type": "execute_result"
    }
   ],
   "source": [
    "df_category_weekly_sales.columns"
   ]
  },
  {
   "cell_type": "code",
   "execution_count": 9,
   "id": "4ade356d",
   "metadata": {},
   "outputs": [
    {
     "name": "stdout",
     "output_type": "stream",
     "text": [
      "[INFO] Detected Pandas DataFrame\n",
      "Warning: Converting 'Week Start' to datetime in add_date_parts.\n"
     ]
    }
   ],
   "source": [
    "# creating new feature by calling pandas functions\n",
    "from src.feature_engineering.feature_engineering_base import FeatureEngineering\n",
    "fe = FeatureEngineering(df= df_category_weekly_sales)\n",
    "\n",
    "df_category_weekly_sales = fe.run_all(\n",
    "    group_col=\"Product Category\",\n",
    "    target_col=\"Category Weekly Sales\",\n",
    "    lags=[1,2,4],\n",
    "    windows=[2,4]\n",
    ")"
   ]
  },
  {
   "cell_type": "code",
   "execution_count": 10,
   "id": "931c7270",
   "metadata": {},
   "outputs": [
    {
     "name": "stdout",
     "output_type": "stream",
     "text": [
      "[INFO] Using existing directory: ../data/processed\n",
      "[SAVED] city_sales_weekly_features => ../data/processed\\city_sales_weekly_features_v1.csv\n",
      "[SAVED] category_sales_weekly_features => ../data/processed\\category_sales_weekly_features_v1.csv\n",
      "\n",
      " All feature-engineered datasets saved with versioning.\n",
      "Check the outputs in: ../data/processed\n"
     ]
    },
    {
     "data": {
      "text/plain": [
       "<src.exporters.feature_df_expoter.FeatureExporter at 0x1ad1c8a7bf0>"
      ]
     },
     "execution_count": 10,
     "metadata": {},
     "output_type": "execute_result"
    }
   ],
   "source": [
    "from src.exporters.feature_df_expoter import FeatureExporter\n",
    "\n",
    "# Pass pure Pandas DataFrames directly\n",
    "exporter = FeatureExporter(\n",
    "    main_df=None, \n",
    "    city_df=df_city_weekly_sales,  # already Pandas\n",
    "    category_df=df_category_weekly_sales  # already Pandas\n",
    ")\n",
    "exporter.export_and_version_features()"
   ]
  }
 ],
 "metadata": {
  "kernelspec": {
   "display_name": "Python 3",
   "language": "python",
   "name": "python3"
  },
  "language_info": {
   "codemirror_mode": {
    "name": "ipython",
    "version": 3
   },
   "file_extension": ".py",
   "mimetype": "text/x-python",
   "name": "python",
   "nbconvert_exporter": "python",
   "pygments_lexer": "ipython3",
   "version": "3.12.4"
  }
 },
 "nbformat": 4,
 "nbformat_minor": 5
}
